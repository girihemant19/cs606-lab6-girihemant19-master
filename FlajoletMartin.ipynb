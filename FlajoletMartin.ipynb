{
 "cells": [
  {
   "cell_type": "markdown",
   "metadata": {},
   "source": [
    "# Flajolet Martin Algorithm for counting Distinct Elements \n",
    "\n",
    "In this implementation we are going to implement the FM algorithm foounting the number of unique quotes from the provided data file (memes). You have to implement the following:"
   ]
  },
  {
   "cell_type": "markdown",
   "metadata": {},
   "source": [
    "First define a function to count the number of trailing zeroes in tha binary representation."
   ]
  },
  {
   "cell_type": "code",
   "execution_count": 8,
   "metadata": {},
   "outputs": [],
   "source": [
    "import mmh3\n",
    "import statistics\n",
    "import math\n",
    "def count_trailing_zeroes(n):\n",
    "    s = str(n)\n",
    "    return len(s)-len(s.rstrip('0'))"
   ]
  },
  {
   "cell_type": "markdown",
   "metadata": {},
   "source": [
    "Now input the file memes.txt that is provided in the /meme directory"
   ]
  },
  {
   "cell_type": "code",
   "execution_count": 9,
   "metadata": {},
   "outputs": [
    {
     "name": "stdout",
     "output_type": "stream",
     "text": [
      "<_io.TextIOWrapper name='/home/hemant/Desktop/cs606-lab6-girihemant19/meme/meme.txt' mode='rt' encoding='UTF-8'>\n"
     ]
    }
   ],
   "source": [
    "import csv\n",
    "#memes_list=[]\n",
    "memes_list = open('/home/hemant/Desktop/cs606-lab6-girihemant19/meme/meme.txt','rt')\n",
    "print(memes_list)"
   ]
  },
  {
   "cell_type": "markdown",
   "metadata": {},
   "source": [
    "Initialize two arrays one for storing the different hashed values (binary) and another for storing the trailing zeroes."
   ]
  },
  {
   "cell_type": "code",
   "execution_count": 10,
   "metadata": {},
   "outputs": [],
   "source": [
    "binary = [\"\" for i in range(10)]\n",
    "trails = [[] for i in range(10)]"
   ]
  },
  {
   "cell_type": "markdown",
   "metadata": {},
   "source": [
    "For every line in the file do the following:\n",
    "1. Use murmur hash to hash the line to a binary format using 10 seeds (varying from 1 to 10)\n",
    "     1. for (s in range(10))\n",
    "           binary[s] = format(abs(mmh3.hash(line, seed))), '032b')\n",
    "     2. for every binary[s] call count_trailing_zeroes() to find the number of trailing zeroes and and store in trails[]"
   ]
  },
  {
   "cell_type": "code",
   "execution_count": 11,
   "metadata": {},
   "outputs": [],
   "source": [
    "for line in memes_list:\n",
    "    stream = line.split(\"\\t\")\n",
    "    if stream[0] is 'Q':\n",
    "        for seed in range(10):\n",
    "            binary[seed] = format(abs(mmh3.hash(stream[1], seed)), '032b')#the hash result as a 32-bit binary string.\n",
    "            trails[seed].append(count_trailing_zeroes(binary[seed]))"
   ]
  },
  {
   "cell_type": "markdown",
   "metadata": {},
   "source": [
    "Now create two groups of hashes (5 each). In each group calculate the expected number of disctinct element using the fact that it is with high probability $2^R$"
   ]
  },
  {
   "cell_type": "code",
   "execution_count": 12,
   "metadata": {},
   "outputs": [],
   "source": [
    "group1 = (2**(max(trails[0])) + 2**(max(trails[1])) + 2**(max(trails[2])) + 2**(max(trails[3])) + 2**(max(trails[4])))/ float(5)\n",
    "group2 = (2**(max(trails[5])) + 2**(max(trails[6])) + 2**(max(trails[7])) + 2**(max(trails[8])) + 2**(max(trails[9])))/ float(5)"
   ]
  },
  {
   "cell_type": "markdown",
   "metadata": {},
   "source": [
    "Take median of the averages of group wise results and show result"
   ]
  },
  {
   "cell_type": "code",
   "execution_count": 13,
   "metadata": {},
   "outputs": [
    {
     "name": "stdout",
     "output_type": "stream",
     "text": [
      "583271\n"
     ]
    }
   ],
   "source": [
    "print (math.ceil(statistics.median([group1, group2])))"
   ]
  },
  {
   "cell_type": "code",
   "execution_count": null,
   "metadata": {},
   "outputs": [],
   "source": []
  }
 ],
 "metadata": {
  "kernelspec": {
   "display_name": "Python 3",
   "language": "python",
   "name": "python3"
  },
  "language_info": {
   "codemirror_mode": {
    "name": "ipython",
    "version": 3
   },
   "file_extension": ".py",
   "mimetype": "text/x-python",
   "name": "python",
   "nbconvert_exporter": "python",
   "pygments_lexer": "ipython3",
   "version": "3.7.3"
  }
 },
 "nbformat": 4,
 "nbformat_minor": 1
}
